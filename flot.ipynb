{
 "cells": [
  {
   "cell_type": "code",
   "execution_count": 11,
   "metadata": {
    "colab": {},
    "colab_type": "code",
    "executionInfo": {
     "elapsed": 3682,
     "status": "ok",
     "timestamp": 1595002134123,
     "user": {
      "displayName": "杨宇",
      "photoUrl": "",
      "userId": "00923939036983134928"
     },
     "user_tz": -120
    },
    "id": "Y7dyVt0nmbuL"
   },
   "outputs": [],
   "source": [
    "#%matplotlib widget"
   ]
  },
  {
   "cell_type": "code",
   "execution_count": 1,
   "metadata": {},
   "outputs": [],
   "source": [
    "import networkx as nx\n",
    "import matplotlib\n",
    "import matplotlib.pyplot as plt\n",
    "import numpy as np\n",
    "import glob\n",
    "from PIL import Image\n",
    "from ipywidgets import interact"
   ]
  },
  {
   "cell_type": "code",
   "execution_count": 2,
   "metadata": {
    "colab": {},
    "colab_type": "code",
    "executionInfo": {
     "elapsed": 4023,
     "status": "ok",
     "timestamp": 1595002134471,
     "user": {
      "displayName": "杨宇",
      "photoUrl": "",
      "userId": "00923939036983134928"
     },
     "user_tz": -120
    },
    "id": "MzVRMVrTDGjL"
   },
   "outputs": [],
   "source": [
    "class Edge(object):\n",
    "    def __init__(self, u, v, w):\n",
    "        self.source = u\n",
    "        self.sink = v  \n",
    "        self.capacity = w\n",
    "    def __repr__(self):\n",
    "        return \"%s->%s:%s\" % (self.source, self.sink, self.capacity)\n",
    "\n",
    "class FlowNetwork(object):\n",
    "    def __init__(self):\n",
    "        self.adj = {}\n",
    "        self.flow = {}\n",
    " \n",
    "    def add_vertex(self, vertex):\n",
    "        self.adj[vertex] = []\n",
    " \n",
    "    def get_edges(self, v):\n",
    "        return self.adj[v]\n",
    " \n",
    "    def add_edge(self, u, v, w=0):\n",
    "        if u == v:\n",
    "            raise ValueError(\"u == v\")\n",
    "        edge = Edge(u,v,w)\n",
    "        redge = Edge(v,u,0)\n",
    "        edge.redge = redge\n",
    "        redge.redge = edge\n",
    "        self.adj[u].append(edge)\n",
    "        self.adj[v].append(redge)\n",
    "        self.flow[edge] = 0\n",
    "        self.flow[redge] = 0\n",
    " \n",
    "    def find_path(self, source, sink, path):\n",
    "        if source == sink:\n",
    "            return path\n",
    "        for edge in self.get_edges(source):\n",
    "            residual = edge.capacity - self.flow[edge]\n",
    "            if residual > 0 and edge not in path:\n",
    "                result = self.find_path( edge.sink, sink, path + [edge]) \n",
    "                if result != None:\n",
    "                    return result\n",
    " \n",
    "    def max_flow(self,G,npos, source, sink): \n",
    "        id = 1 \n",
    "        \n",
    "        path = self.find_path(source, sink, [])\n",
    "        #coordinates=[[1,1],[2,1],[2,2],[3,1],[3,3],[4,2]]\n",
    "        #vnode=np.array(coordinates)\n",
    "        nodes=['s','o','p','q','r','t']\n",
    "        #npos = nx.spring_layout(G)\n",
    "        \n",
    "        while path != None:\n",
    "            #print(path)\n",
    "            residuals = [edge.capacity - self.flow[edge] for edge in path]\n",
    "            flow = min(residuals)\n",
    "            edge_liste_path = []\n",
    "            edge_path=(0,0)\n",
    "            for edge in path:\n",
    "                color_path = []\n",
    "                self.flow[edge] += flow\n",
    "                self.flow[edge.redge] -= flow\n",
    "                try:\n",
    "                    G[edge.source][edge.sink]['flow']\n",
    "                except KeyError:\n",
    "                    dict_exists = False\n",
    "                else:\n",
    "                    dict_exists = True\n",
    "                if(dict_exists):\n",
    "                    G[edge.source][edge.sink]['flow']+=flow\n",
    "                    edge_path = (edge.source,edge.sink)\n",
    "                else:\n",
    "                    G[edge.sink][edge.source]['flow']-=flow\n",
    "                    edge_path = (edge.sink,edge.source)\n",
    "                if(edge_path in edge_liste_path):\n",
    "                    edge_liste_path.remove(edge_path)\n",
    "                else : \n",
    "                    edge_liste_path.append(edge_path)\n",
    "\n",
    "            path = self.find_path(source, sink, [])\n",
    "            #npos=dict(zip(nodes,vnode))\n",
    "            \n",
    "            node_labels = {}\n",
    "            for node in G.nodes:\n",
    "                node_labels[node] = str(node)\n",
    "            nx.draw_networkx_labels(G, npos, labels=node_labels)\n",
    "            edge_labels={}\n",
    "            for edge in G.edges :\n",
    "                edge_labels[edge]=str(G.edges[edge]['flow']) + ' / ' + str(G.edges[edge]['weight'])\n",
    "              #edge_labels[edge]=str(edge)\n",
    "            nx.draw_networkx_edge_labels(G,npos,edge_labels=edge_labels)\n",
    "            #print(edge_liste_path)\n",
    "            nx.draw_networkx_edges(G,npos,edgelist=edge_liste_path,edge_color='r',width = 8)\n",
    "            nx.draw(G,npos)\n",
    "            \n",
    "            nx.draw_networkx_edges(G,npos,edgelist=edge_liste_path,edge_color='b')\n",
    "            root = \"./temp\"+str(id)+\".jpg\"\n",
    "            plt.savefig(root)\n",
    "            plt.show()\n",
    "            id=id+1\n",
    "        return sum(self.flow[edge] for edge in self.get_edges(source))\n"
   ]
  },
  {
   "cell_type": "code",
   "execution_count": 3,
   "metadata": {
    "colab": {},
    "colab_type": "code",
    "executionInfo": {
     "elapsed": 4019,
     "status": "ok",
     "timestamp": 1595002134472,
     "user": {
      "displayName": "杨宇",
      "photoUrl": "",
      "userId": "00923939036983134928"
     },
     "user_tz": -120
    },
    "id": "6MqOjo8fmbuP"
   },
   "outputs": [],
   "source": [
    "g=FlowNetwork()"
   ]
  },
  {
   "cell_type": "code",
   "execution_count": 4,
   "metadata": {
    "colab": {
     "base_uri": "https://localhost:8080/",
     "height": 35
    },
    "colab_type": "code",
    "executionInfo": {
     "elapsed": 4014,
     "status": "ok",
     "timestamp": 1595002134474,
     "user": {
      "displayName": "杨宇",
      "photoUrl": "",
      "userId": "00923939036983134928"
     },
     "user_tz": -120
    },
    "id": "KIeFZw95mbuS",
    "outputId": "2e46c0c1-a355-4b4c-ce62-5ac7acfc8a34"
   },
   "outputs": [
    {
     "data": {
      "text/plain": [
       "[None, None, None, None, None, None]"
      ]
     },
     "execution_count": 4,
     "metadata": {},
     "output_type": "execute_result"
    }
   ],
   "source": [
    "[g.add_vertex(v) for v in \"sopqrt\"]"
   ]
  },
  {
   "cell_type": "code",
   "execution_count": 5,
   "metadata": {
    "colab": {},
    "colab_type": "code",
    "executionInfo": {
     "elapsed": 4008,
     "status": "ok",
     "timestamp": 1595002134475,
     "user": {
      "displayName": "杨宇",
      "photoUrl": "",
      "userId": "00923939036983134928"
     },
     "user_tz": -120
    },
    "id": "QBZMfVaPmbuU"
   },
   "outputs": [],
   "source": [
    "def view_image(i=0):\n",
    "    plt.figure(figsize=(7.5, 7.5))\n",
    "    plt.imshow(imgs[i])\n",
    "    plt.axis('off')\n",
    "    plt.show()"
   ]
  },
  {
   "cell_type": "code",
   "execution_count": null,
   "metadata": {},
   "outputs": [],
   "source": []
  },
  {
   "cell_type": "code",
   "execution_count": 6,
   "metadata": {
    "colab": {
     "base_uri": "https://localhost:8080/",
     "height": 746,
     "referenced_widgets": [
      "f94d22c1659d41bca1e2b1e635a2302f",
      "f31331a9538d405689fd61db0f0a8db5",
      "17154ab084f0408bbe50b1111fa43374"
     ]
    },
    "colab_type": "code",
    "executionInfo": {
     "elapsed": 4332,
     "status": "ok",
     "timestamp": 1595002134803,
     "user": {
      "displayName": "杨宇",
      "photoUrl": "",
      "userId": "00923939036983134928"
     },
     "user_tz": -120
    },
    "id": "BgDta9jcmbuX",
    "outputId": "d2266f94-ea1c-4f41-cc0d-2c6faa080efd"
   },
   "outputs": [
    {
     "name": "stdout",
     "output_type": "stream",
     "text": [
      "['s', 'o', 'p', 'q', 'r', 't']\n"
     ]
    },
    {
     "data": {
      "image/png": "[encoded data removed]",
      "text/plain": [
       "<Figure size 432x288 with 1 Axes>"
      ]
     },
     "metadata": {},
     "output_type": "display_data"
    },
    {
     "data": {
      "image/png": "[encoded data removed]",
      "text/plain": [
       "<Figure size 432x288 with 1 Axes>"
      ]
     },
     "metadata": {},
     "output_type": "display_data"
    },
    {
     "data": {
      "image/png": "[encoded data removed]",
      "text/plain": [
       "<Figure size 432x288 with 1 Axes>"
      ]
     },
     "metadata": {},
     "output_type": "display_data"
    },
    {
     "data": {
      "image/png": "[encoded data removed]",
      "text/plain": [
       "<Figure size 432x288 with 1 Axes>"
      ]
     },
     "metadata": {},
     "output_type": "display_data"
    }
   ],
   "source": [
    "file = open('dataFlot1.txt')\n",
    "line = file.readline()\n",
    "line = line.strip().split(' ')\n",
    "print(line)\n",
    "G = nx.DiGraph()\n",
    "[G.add_node(v) for v in line]\n",
    "line = file.readline()\n",
    "while line:\n",
    "    line = line.strip().split(' ')\n",
    "    G.add_edge(line[0],line[1],weight=int(line[2]),flow=0)\n",
    "    g.add_edge(line[0],line[1],int(line[2]))\n",
    "    line = file.readline()\n",
    "file.close()\n",
    "\n",
    "npos = nx.spring_layout(G)\n",
    "\n",
    "node_labels = {}\n",
    "for node in G.nodes:\n",
    "     node_labels[node] = str(node)\n",
    "nx.draw_networkx_labels(G, npos, labels=node_labels)\n",
    "edge_labels={}\n",
    "for edge in G.edges :\n",
    "     edge_labels[edge]=str(G.edges[edge]['flow']) + ' / ' + str(G.edges[edge]['weight'])\n",
    "     #edge_labels[edge]=str(edge)\n",
    "nx.draw_networkx_edge_labels(G,npos,edge_labels=edge_labels)\n",
    "nx.draw(G,npos)\n",
    "root = \"./temp0.jpg\"\n",
    "plt.savefig(root)\n",
    "\n",
    "\n",
    "n=g.max_flow(G, npos, 's','t')\n",
    "\n",
    " \n"
   ]
  },
  {
   "cell_type": "code",
   "execution_count": 7,
   "metadata": {
    "colab": {},
    "colab_type": "code",
    "executionInfo": {
     "elapsed": 4675,
     "status": "ok",
     "timestamp": 1595002135152,
     "user": {
      "displayName": "杨宇",
      "photoUrl": "",
      "userId": "00923939036983134928"
     },
     "user_tz": -120
    },
    "id": "GpzSwwW7LmpK"
   },
   "outputs": [
    {
     "data": {
      "application/vnd.jupyter.widget-view+json": {
       "model_id": "dd6d4118e996443f8a602fe2e887dfdf",
       "version_major": 2,
       "version_minor": 0
      },
      "text/plain": [
       "interactive(children=(IntSlider(value=0, description='i', max=4), Output()), _dom_classes=('widget-interact',)…"
      ]
     },
     "metadata": {},
     "output_type": "display_data"
    },
    {
     "data": {
      "text/plain": [
       "<function __main__.view_image>"
      ]
     },
     "execution_count": 7,
     "metadata": {},
     "output_type": "execute_result"
    }
   ],
   "source": [
    "Datapath = \"./*.jpg\"\n",
    "imgs = np.empty((n,288,432,3))\n",
    "i = 0\n",
    "for i in range(0,n):\n",
    "    imageFile = './temp'+str(i)+'.jpg'\n",
    "    #print(imageFile)\n",
    "    img = np.array(Image.open(imageFile))/255.\n",
    "    imgs[i] = img\n",
    "    i += 1\n",
    "interact(view_image, i=(0,n-1))\n"
   ]
  },
  {
   "cell_type": "code",
   "execution_count": null,
   "metadata": {
    "colab": {},
    "colab_type": "code",
    "executionInfo": {
     "elapsed": 4672,
     "status": "ok",
     "timestamp": 1595002135153,
     "user": {
      "displayName": "杨宇",
      "photoUrl": "",
      "userId": "00923939036983134928"
     },
     "user_tz": -120
    },
    "id": "C6jhZ_qKmbuZ"
   },
   "outputs": [],
   "source": []
  },
  {
   "cell_type": "code",
   "execution_count": null,
   "metadata": {
    "colab": {},
    "colab_type": "code",
    "executionInfo": {
     "elapsed": 4668,
     "status": "ok",
     "timestamp": 1595002135154,
     "user": {
      "displayName": "杨宇",
      "photoUrl": "",
      "userId": "00923939036983134928"
     },
     "user_tz": -120
    },
    "id": "JH-rCXa1dJJU"
   },
   "outputs": [],
   "source": []
  }
 ],
 "metadata": {
  "colab": {
   "name": "Untitled.ipynb",
   "provenance": []
  },
  "kernelspec": {
   "display_name": "Python 3",
   "language": "python",
   "name": "python3"
  },
  "language_info": {
   "codemirror_mode": {
    "name": "ipython",
    "version": 3
   },
   "file_extension": ".py",
   "mimetype": "text/x-python",
   "name": "python",
   "nbconvert_exporter": "python",
   "pygments_lexer": "ipython3",
   "version": "3.7.3"
  },
  "widgets": {
   "application/vnd.jupyter.widget-state+json": {
    "17154ab084f0408bbe50b1111fa43374": {
     "model_module": "@jupyter-widgets/base",
     "model_name": "LayoutModel",
     "state": {
      "_model_module": "@jupyter-widgets/base",
      "_model_module_version": "1.2.0",
      "_model_name": "LayoutModel",
      "_view_count": null,
      "_view_module": "@jupyter-widgets/base",
      "_view_module_version": "1.2.0",
      "_view_name": "LayoutView",
      "align_content": null,
      "align_items": null,
      "align_self": null,
      "border": null,
      "bottom": null,
      "display": null,
      "flex": null,
      "flex_flow": null,
      "grid_area": null,
      "grid_auto_columns": null,
      "grid_auto_flow": null,
      "grid_auto_rows": null,
      "grid_column": null,
      "grid_gap": null,
      "grid_row": null,
      "grid_template_areas": null,
      "grid_template_columns": null,
      "grid_template_rows": null,
      "height": null,
      "justify_content": null,
      "justify_items": null,
      "left": null,
      "margin": null,
      "max_height": null,
      "max_width": null,
      "min_height": null,
      "min_width": null,
      "object_fit": null,
      "object_position": null,
      "order": null,
      "overflow": null,
      "overflow_x": null,
      "overflow_y": null,
      "padding": null,
      "right": null,
      "top": null,
      "visibility": null,
      "width": null
     }
    },
    "f31331a9538d405689fd61db0f0a8db5": {
     "model_module": "@jupyter-widgets/controls",
     "model_name": "ImageModel",
     "state": {
      "_dom_classes": [],
      "_model_module": "@jupyter-widgets/controls",
      "_model_module_version": "1.5.0",
      "_model_name": "ImageModel",
      "_view_count": null,
      "_view_module": "@jupyter-widgets/controls",
      "_view_module_version": "1.5.0",
      "_view_name": "ImageView",
      "format": "jpg",
      "height": "500",
      "layout": "IPY_MODEL_17154ab084f0408bbe50b1111fa43374",
      "width": "500"
     }
    },
    "f94d22c1659d41bca1e2b1e635a2302f": {
     "model_module": "jupyter-matplotlib",
     "model_name": "MPLCanvasModel",
     "state": {
      "_cursor": "pointer",
      "_dom_classes": [],
      "_figure_label": "Figure",
      "_height": 0,
      "_image_mode": "full",
      "_message": "",
      "_model_module": "jupyter-matplotlib",
      "_model_module_version": "^0.7.3",
      "_model_name": "MPLCanvasModel",
      "_rubberband_height": 0,
      "_rubberband_width": 0,
      "_rubberband_x": 0,
      "_rubberband_y": 0,
      "_view_count": null,
      "_view_module": "jupyter-matplotlib",
      "_view_module_version": "^0.7.3",
      "_view_name": "MPLCanvasView",
      "_width": 0,
      "capture_scroll": false,
      "footer_visible": true,
      "header_visible": true,
      "layout": "IPY_MODEL_20ac81fecf2b40268cd2bb0296189069",
      "resizable": true,
      "toolbar": "IPY_MODEL_59736ea63d6841c498e8f88b751722c5",
      "toolbar_position": "left",
      "toolbar_visible": true
     }
    }
   }
  }
 },
 "nbformat": 4,
 "nbformat_minor": 1
}
