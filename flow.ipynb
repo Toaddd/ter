{
  "nbformat": 4,
  "nbformat_minor": 0,
  "metadata": {
    "kernelspec": {
      "display_name": "Python 3",
      "language": "python",
      "name": "python3"
    },
    "language_info": {
      "codemirror_mode": {
        "name": "ipython",
        "version": 3
      },
      "file_extension": ".py",
      "mimetype": "text/x-python",
      "name": "python",
      "nbconvert_exporter": "python",
      "pygments_lexer": "ipython3",
      "version": "3.8.1"
    },
    "colab": {
      "name": "Untitled.ipynb",
      "provenance": []
    },
    "widgets": {
      "application/vnd.jupyter.widget-state+json": {
        "3b5ee2dab14f4db5b3329a9fc08727ba": {
          "model_module": "@jupyter-widgets/controls",
          "model_name": "VBoxModel",
          "state": {
            "_view_name": "VBoxView",
            "_dom_classes": [
              "widget-interact"
            ],
            "_model_name": "VBoxModel",
            "_view_module": "@jupyter-widgets/controls",
            "_model_module_version": "1.5.0",
            "_view_count": null,
            "_view_module_version": "1.5.0",
            "box_style": "",
            "layout": "IPY_MODEL_ae8297ba39a5403ea07c792489670bfc",
            "_model_module": "@jupyter-widgets/controls",
            "children": [
              "IPY_MODEL_9323bff4b1db4b75b0a6b5abd9736563",
              "IPY_MODEL_1348fa7302cd4072aa99477d2b6fc341"
            ]
          }
        },
        "ae8297ba39a5403ea07c792489670bfc": {
          "model_module": "@jupyter-widgets/base",
          "model_name": "LayoutModel",
          "state": {
            "_view_name": "LayoutView",
            "grid_template_rows": null,
            "right": null,
            "justify_content": null,
            "_view_module": "@jupyter-widgets/base",
            "overflow": null,
            "_model_module_version": "1.2.0",
            "_view_count": null,
            "flex_flow": null,
            "width": null,
            "min_width": null,
            "border": null,
            "align_items": null,
            "bottom": null,
            "_model_module": "@jupyter-widgets/base",
            "top": null,
            "grid_column": null,
            "overflow_y": null,
            "overflow_x": null,
            "grid_auto_flow": null,
            "grid_area": null,
            "grid_template_columns": null,
            "flex": null,
            "_model_name": "LayoutModel",
            "justify_items": null,
            "grid_row": null,
            "max_height": null,
            "align_content": null,
            "visibility": null,
            "align_self": null,
            "height": null,
            "min_height": null,
            "padding": null,
            "grid_auto_rows": null,
            "grid_gap": null,
            "max_width": null,
            "order": null,
            "_view_module_version": "1.2.0",
            "grid_template_areas": null,
            "object_position": null,
            "object_fit": null,
            "grid_auto_columns": null,
            "margin": null,
            "display": null,
            "left": null
          }
        },
        "9323bff4b1db4b75b0a6b5abd9736563": {
          "model_module": "@jupyter-widgets/controls",
          "model_name": "IntSliderModel",
          "state": {
            "_view_name": "IntSliderView",
            "style": "IPY_MODEL_b10e47198f4641f2a72dcaa933861936",
            "_dom_classes": [],
            "description": "i",
            "step": 1,
            "_model_name": "IntSliderModel",
            "orientation": "horizontal",
            "max": 4,
            "_view_module": "@jupyter-widgets/controls",
            "_model_module_version": "1.5.0",
            "value": 0,
            "_view_count": null,
            "disabled": false,
            "_view_module_version": "1.5.0",
            "min": 0,
            "continuous_update": true,
            "readout_format": "d",
            "description_tooltip": null,
            "readout": true,
            "_model_module": "@jupyter-widgets/controls",
            "layout": "IPY_MODEL_e9e78c4a9a1c4d788ead3d8088bac4f8"
          }
        },
        "1348fa7302cd4072aa99477d2b6fc341": {
          "model_module": "@jupyter-widgets/output",
          "model_name": "OutputModel",
          "state": {
            "_view_name": "OutputView",
            "msg_id": "",
            "_dom_classes": [],
            "_model_name": "OutputModel",
            "outputs": [
              {
                "output_type": "stream",
                "metadata": {
                  "tags": []
                },
                "text": "Clipping input data to the valid range for imshow with RGB data ([0..1] for floats or [0..255] for integers).\n",
                "stream": "stderr"
              },
              {
                "output_type": "display_data",
                "metadata": {
                  "tags": [],
                  "needs_background": "light"
                },
                "image/png": "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\n",
                "text/plain": "<Figure size 432x288 with 1 Axes>"
              }
            ],
            "_view_module": "@jupyter-widgets/output",
            "_model_module_version": "1.0.0",
            "_view_count": null,
            "_view_module_version": "1.0.0",
            "layout": "IPY_MODEL_8cdefbef2d32409aa8c274b1a3fbc25c",
            "_model_module": "@jupyter-widgets/output"
          }
        },
        "b10e47198f4641f2a72dcaa933861936": {
          "model_module": "@jupyter-widgets/controls",
          "model_name": "SliderStyleModel",
          "state": {
            "_view_name": "StyleView",
            "handle_color": null,
            "_model_name": "SliderStyleModel",
            "description_width": "",
            "_view_module": "@jupyter-widgets/base",
            "_model_module_version": "1.5.0",
            "_view_count": null,
            "_view_module_version": "1.2.0",
            "_model_module": "@jupyter-widgets/controls"
          }
        },
        "e9e78c4a9a1c4d788ead3d8088bac4f8": {
          "model_module": "@jupyter-widgets/base",
          "model_name": "LayoutModel",
          "state": {
            "_view_name": "LayoutView",
            "grid_template_rows": null,
            "right": null,
            "justify_content": null,
            "_view_module": "@jupyter-widgets/base",
            "overflow": null,
            "_model_module_version": "1.2.0",
            "_view_count": null,
            "flex_flow": null,
            "width": null,
            "min_width": null,
            "border": null,
            "align_items": null,
            "bottom": null,
            "_model_module": "@jupyter-widgets/base",
            "top": null,
            "grid_column": null,
            "overflow_y": null,
            "overflow_x": null,
            "grid_auto_flow": null,
            "grid_area": null,
            "grid_template_columns": null,
            "flex": null,
            "_model_name": "LayoutModel",
            "justify_items": null,
            "grid_row": null,
            "max_height": null,
            "align_content": null,
            "visibility": null,
            "align_self": null,
            "height": null,
            "min_height": null,
            "padding": null,
            "grid_auto_rows": null,
            "grid_gap": null,
            "max_width": null,
            "order": null,
            "_view_module_version": "1.2.0",
            "grid_template_areas": null,
            "object_position": null,
            "object_fit": null,
            "grid_auto_columns": null,
            "margin": null,
            "display": null,
            "left": null
          }
        },
        "8cdefbef2d32409aa8c274b1a3fbc25c": {
          "model_module": "@jupyter-widgets/base",
          "model_name": "LayoutModel",
          "state": {
            "_view_name": "LayoutView",
            "grid_template_rows": null,
            "right": null,
            "justify_content": null,
            "_view_module": "@jupyter-widgets/base",
            "overflow": null,
            "_model_module_version": "1.2.0",
            "_view_count": null,
            "flex_flow": null,
            "width": null,
            "min_width": null,
            "border": null,
            "align_items": null,
            "bottom": null,
            "_model_module": "@jupyter-widgets/base",
            "top": null,
            "grid_column": null,
            "overflow_y": null,
            "overflow_x": null,
            "grid_auto_flow": null,
            "grid_area": null,
            "grid_template_columns": null,
            "flex": null,
            "_model_name": "LayoutModel",
            "justify_items": null,
            "grid_row": null,
            "max_height": null,
            "align_content": null,
            "visibility": null,
            "align_self": null,
            "height": null,
            "min_height": null,
            "padding": null,
            "grid_auto_rows": null,
            "grid_gap": null,
            "max_width": null,
            "order": null,
            "_view_module_version": "1.2.0",
            "grid_template_areas": null,
            "object_position": null,
            "object_fit": null,
            "grid_auto_columns": null,
            "margin": null,
            "display": null,
            "left": null
          }
        }
      }
    }
  },
  "cells": [
    {
      "cell_type": "code",
      "metadata": {
        "id": "Y7dyVt0nmbuL",
        "colab_type": "code",
        "colab": {}
      },
      "source": [
        "import networkx as nx\n",
        "import matplotlib.pyplot as plt\n",
        "import numpy as np\n",
        "\n",
        "class Edge(object):\n",
        "    def __init__(self, u, v, w):\n",
        "        self.source = u\n",
        "        self.sink = v  \n",
        "        self.capacity = w\n",
        "    def __repr__(self):\n",
        "        return \"%s->%s:%s\" % (self.source, self.sink, self.capacity)\n",
        "\n",
        "class FlowNetwork(object):\n",
        "    def __init__(self):\n",
        "        self.adj = {}\n",
        "        self.flow = {}\n",
        " \n",
        "    def add_vertex(self, vertex):\n",
        "        self.adj[vertex] = []\n",
        " \n",
        "    def get_edges(self, v):\n",
        "        return self.adj[v]\n",
        " \n",
        "    def add_edge(self, u, v, w=0):\n",
        "        if u == v:\n",
        "            raise ValueError(\"u == v\")\n",
        "        edge = Edge(u,v,w)\n",
        "        redge = Edge(v,u,0)\n",
        "        edge.redge = redge\n",
        "        redge.redge = edge\n",
        "        self.adj[u].append(edge)\n",
        "        self.adj[v].append(redge)\n",
        "        self.flow[edge] = 0\n",
        "        self.flow[redge] = 0\n",
        " \n",
        "    def find_path(self, source, sink, path):\n",
        "        if source == sink:\n",
        "            return path\n",
        "        for edge in self.get_edges(source):\n",
        "            residual = edge.capacity - self.flow[edge]\n",
        "            if residual > 0 and edge not in path:\n",
        "                result = self.find_path( edge.sink, sink, path + [edge]) \n",
        "                if result != None:\n",
        "                    return result\n",
        " \n",
        "    def max_flow(self,G, source, sink): \n",
        "        id = 0                               \n",
        "        path = self.find_path(source, sink, [])\n",
        "        coordinates=[[1,1],[2,1],[2,2],[3,1],[3,3],[4,2]]\n",
        "        vnode=np.array(coordinates)\n",
        "        nodes=['s','o','p','q','r','t']\n",
        "        while path != None:\n",
        "            residuals = [edge.capacity - self.flow[edge] for edge in path]\n",
        "            flow = min(residuals)\n",
        "            for edge in path:\n",
        "                self.flow[edge] += flow\n",
        "                self.flow[edge.redge] -= flow\n",
        "                try:\n",
        "                    G[edge.source][edge.sink]['flow']\n",
        "                except KeyError:\n",
        "                    dict_exists = False\n",
        "                else:\n",
        "                    dict_exists = True\n",
        "                if(dict_exists):\n",
        "                    G[edge.source][edge.sink]['flow']+=flow\n",
        "                else:\n",
        "                    G[edge.sink][edge.source]['flow']-=flow\n",
        "                \n",
        "            path = self.find_path(source, sink, [])\n",
        "            npos=dict(zip(nodes,vnode))\n",
        "            node_labels = {}\n",
        "            for node in G.nodes:\n",
        "              node_labels[node] = str(node)\n",
        "            nx.draw_networkx_labels(G, npos, labels=node_labels)\n",
        "            edge_labels={}\n",
        "            for edge in G.edges :\n",
        "              edge_labels[edge]=str(G.edges[edge]['flow']) + ' / ' + str(G.edges[edge]['weight'])\n",
        "              #edge_labels[edge]=str(edge)\n",
        "            nx.draw_networkx_edge_labels(G,npos,edge_labels=edge_labels)\n",
        "            nx.draw(G,npos)\n",
        "            plt.savefig(\"./temp\"+str(id)+\".png\")\n",
        "            id=id+1\n",
        "\n",
        "        ##interact(view_image, i=(0,n-1))\n",
        "        return sum(self.flow[edge] for edge in self.get_edges(source))\n",
        "def view_image(i):\n",
        "  plt.imshow(imgs[i], cmap=plt.cm.gray_r, interpolation='nearest')\n",
        "  plt.show()\n"
      ],
      "execution_count": 0,
      "outputs": []
    },
    {
      "cell_type": "code",
      "metadata": {
        "id": "6MqOjo8fmbuP",
        "colab_type": "code",
        "colab": {}
      },
      "source": [
        "g=FlowNetwork()"
      ],
      "execution_count": 0,
      "outputs": []
    },
    {
      "cell_type": "code",
      "metadata": {
        "id": "KIeFZw95mbuS",
        "colab_type": "code",
        "outputId": "8973e5b7-ba85-4415-9258-77bc6d83e013",
        "colab": {
          "base_uri": "https://localhost:8080/",
          "height": 35
        }
      },
      "source": [
        "[g.add_vertex(v) for v in \"sopqrt\"]"
      ],
      "execution_count": 16,
      "outputs": [
        {
          "output_type": "execute_result",
          "data": {
            "text/plain": [
              "[None, None, None, None, None, None]"
            ]
          },
          "metadata": {
            "tags": []
          },
          "execution_count": 16
        }
      ]
    },
    {
      "cell_type": "code",
      "metadata": {
        "id": "QBZMfVaPmbuU",
        "colab_type": "code",
        "colab": {}
      },
      "source": [
        ""
      ],
      "execution_count": 0,
      "outputs": []
    },
    {
      "cell_type": "code",
      "metadata": {
        "id": "BgDta9jcmbuX",
        "colab_type": "code",
        "outputId": "ca399453-7eda-4bf4-a178-ba86ed16400b",
        "colab": {
          "base_uri": "https://localhost:8080/",
          "height": 569,
          "referenced_widgets": [
            "3b5ee2dab14f4db5b3329a9fc08727ba",
            "ae8297ba39a5403ea07c792489670bfc",
            "9323bff4b1db4b75b0a6b5abd9736563",
            "1348fa7302cd4072aa99477d2b6fc341",
            "b10e47198f4641f2a72dcaa933861936",
            "e9e78c4a9a1c4d788ead3d8088bac4f8",
            "8cdefbef2d32409aa8c274b1a3fbc25c"
          ]
        }
      },
      "source": [
        "import glob\n",
        "from PIL import Image\n",
        "G = nx.DiGraph()\n",
        "[G.add_node(v) for v in \"sopqrt\"]\n",
        "G.add_edge('s','o',weight=3,flow=0,color='b')\n",
        "G.add_edge('s','p',weight=3,flow=0,color='b')\n",
        "G.add_edge('o','p',weight=2,flow=0,color='b')\n",
        "G.add_edge('o','q',weight=3,flow=0,color='b')\n",
        "G.add_edge('p','r',weight=2,flow=0,color='b')\n",
        "G.add_edge('r','t',weight=3,flow=0,color='b')\n",
        "G.add_edge('q','r',weight=4,flow=0,color='b')\n",
        "G.add_edge('q','t',weight=2,flow=0,color='b')\n",
        "g.add_edge('s','o',3)\n",
        "g.add_edge('s','p',3)\n",
        "g.add_edge('o','p',2)\n",
        "g.add_edge('o','q',3)\n",
        "g.add_edge('p','r',2)\n",
        "g.add_edge('r','t',3)\n",
        "g.add_edge('q','r',4)\n",
        "g.add_edge('q','t',2)\n",
        "n=g.max_flow(G,'s','t')\n",
        "\n",
        " \n",
        "Datapath = \"./*.png\"\n",
        "imgs = np.zeros((10, 288, 432, 4))\n",
        "i = 0\n",
        "for imageFile in glob.glob(Datapath ):\n",
        "\timg = np.array(Image.open(imageFile))\n",
        "\timgs[i] = img\n",
        "\ti += 1\n",
        "interact(view_image, i=(0,n-1))"
      ],
      "execution_count": 17,
      "outputs": [
        {
          "output_type": "display_data",
          "data": {
            "image/png": "[encoded data removed]",
            "text/plain": [
              "<Figure size 432x288 with 1 Axes>"
            ]
          },
          "metadata": {
            "tags": []
          }
        },
        {
          "output_type": "display_data",
          "data": {
            "application/vnd.jupyter.widget-view+json": {
              "model_id": "3b5ee2dab14f4db5b3329a9fc08727ba",
              "version_minor": 0,
              "version_major": 2
            },
            "text/plain": [
              "interactive(children=(IntSlider(value=2, description='i', max=4), Output()), _dom_classes=('widget-interact',)…"
            ]
          },
          "metadata": {
            "tags": []
          }
        },
        {
          "output_type": "execute_result",
          "data": {
            "text/plain": [
              "<function __main__.view_image>"
            ]
          },
          "metadata": {
            "tags": []
          },
          "execution_count": 17
        }
      ]
    },
    {
      "cell_type": "code",
      "metadata": {
        "id": "C6jhZ_qKmbuZ",
        "colab_type": "code",
        "colab": {}
      },
      "source": [
        "from ipywidgets import interact"
      ],
      "execution_count": 0,
      "outputs": []
    },
    {
      "cell_type": "code",
      "metadata": {
        "id": "JH-rCXa1dJJU",
        "colab_type": "code",
        "colab": {}
      },
      "source": [
        ""
      ],
      "execution_count": 0,
      "outputs": []
    }
  ]
}