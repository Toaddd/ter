{
  "nbformat": 4,
  "nbformat_minor": 0,
  "metadata": {
    "colab": {
      "name": "soutenance.ipynb",
      "provenance": []
    },
    "kernelspec": {
      "name": "python3",
      "display_name": "Python 3"
    }
  },
  "cells": [
    {
      "cell_type": "markdown",
      "metadata": {
        "id": "5_YuTynri7zM",
        "colab_type": "text"
      },
      "source": [
        "# TER - Visualiser l'Alogorithme Ford Fulkson et Dijkstra avec Jupyter\n",
        "\n",
        "### Tingting ZHU & Yu YANG\n",
        "\n",
        "---\n",
        "\n",
        "* Introduction\n",
        "      1.   Contexte\n",
        "      2.   Motivation et objectif\n",
        "      3.   Introduction de Jupyter\n",
        "\n",
        "\n",
        "* Etapes de réalisation\n",
        "       1.  Algorithme de Ford-Fulkerson\n",
        "       2.  Algorithme de Dijkstra\n",
        "* Conclusion\n",
        "\n",
        "\n",
        "---\n",
        "\n"
      ]
    },
    {
      "cell_type": "markdown",
      "metadata": {
        "id": "tTLqZe9I62E9",
        "colab_type": "text"
      },
      "source": [
        "# Contexte\n",
        "\n",
        "Ce projet TER(Travaille d'Etude et de Recherche) est de faire algorithmique interactive avec Jupyter. Nous l'utilisons pour modéliser l'algorithme de Ford-Fulkerson et de Dijkstra."
      ]
    },
    {
      "cell_type": "markdown",
      "metadata": {
        "id": "FIj2kVad_oOL",
        "colab_type": "text"
      },
      "source": [
        "# Motivation et objectif\n",
        "Pendant le cours d'algorithme, on a pris beaucoup de algorithme pour trouver le plus court chemin, tel que Flot Max(Ford-Fulkerson) et Dijkstra. Afin de pouvoir visualiser le processus d'exécution de l'algorithme, nous programmons en Python avec Jupyter"
      ]
    },
    {
      "cell_type": "markdown",
      "metadata": {
        "id": "87wG6WrSBOPD",
        "colab_type": "text"
      },
      "source": [
        "# Introduction de Jupyter\n",
        "Jupyter Notebook est une application Web qui facilite la création et le partage de documents de programmes. Il permet de exécuter les codes cellule par cellule et propose beaucoup de outils de visualisation."
      ]
    },
    {
      "cell_type": "markdown",
      "metadata": {
        "id": "sBrEtAuGCRNb",
        "colab_type": "text"
      },
      "source": [
        "# Réaliser en l'algorithme Flot Max(Ford-Fulkerson)"
      ]
    },
    {
      "cell_type": "code",
      "metadata": {
        "id": "_jDnK0BuCbEA",
        "colab_type": "code",
        "colab": {}
      },
      "source": [
        "import networkx as nx\n",
        "from GraphAlgorithmPlayer import GraphAlgorithmPlayer\n",
        "import copy"
      ],
      "execution_count": null,
      "outputs": []
    },
    {
      "cell_type": "code",
      "metadata": {
        "id": "4TdrwgrACq_o",
        "colab_type": "code",
        "colab": {}
      },
      "source": [
        "variables=[\n",
        "          {'name': 'G',          'type':'graph'                                     },\n",
        "          {'name':'edge_liste_path',      'type':'edges', 'color': 'red', 'display':True   },\n",
        "          {'name':'edge_labels',    'type':'edges', 'label': True,    'display': False },\n",
        "          {'name':'node_labels',        'type':'nodes', 'label': True,    'display': False },\n",
        "          {'name':'flow',        'type':'nodes',   'display': True },\n",
        "          {'name':'flot_ajoute',        'type':'nodes',   'display': True }\n",
        "          ]"
      ],
      "execution_count": null,
      "outputs": []
    },
    {
      "cell_type": "code",
      "metadata": {
        "id": "B971Cy0hC-UR",
        "colab_type": "code",
        "colab": {}
      },
      "source": [
        "class Edge(object):\n",
        "    def __init__(self, u, v, w):\n",
        "        self.source = u\n",
        "        self.sink = v  \n",
        "        self.capacity = w\n",
        "    def __repr__(self):\n",
        "        return \"%s->%s:%s\" % (self.source, self.sink, self.capacity)"
      ],
      "execution_count": null,
      "outputs": []
    },
    {
      "cell_type": "code",
      "metadata": {
        "id": "4jQhxWVTC__a",
        "colab_type": "code",
        "colab": {}
      },
      "source": [
        "class FlowNetwork(object):\n",
        "    def __init__(self):\n",
        "        self.adj = {}\n",
        "        self.flow = {}\n",
        " \n",
        "    def add_vertex(self, vertex):\n",
        "        self.adj[vertex] = []\n",
        " \n",
        "    def get_edges(self, v):\n",
        "        return self.adj[v]\n",
        " \n",
        "    def add_edge(self, u, v, w=0):\n",
        "        if u == v:\n",
        "            raise ValueError(\"u == v\")\n",
        "        edge = Edge(u,v,w)\n",
        "        redge = Edge(v,u,0)\n",
        "        edge.redge = redge\n",
        "        redge.redge = edge\n",
        "        self.adj[u].append(edge)\n",
        "        self.adj[v].append(redge)\n",
        "        self.flow[edge] = 0\n",
        "        self.flow[redge] = 0\n",
        " \n",
        "    def find_path(self, source, sink, path):\n",
        "        if source == sink:\n",
        "            return path\n",
        "        for edge in self.get_edges(source):\n",
        "            residual = edge.capacity - self.flow[edge]\n",
        "            if residual > 0 and edge not in path:\n",
        "                result = self.find_path( edge.sink, sink, path + [edge]) \n",
        "                if result != None:\n",
        "                    return result\n",
        " \n",
        "    def max_flow(self,G,source, sink): \n",
        "        pathG = {}\n",
        "        path = self.find_path(source, sink, [])     \n",
        "        while path != None:\n",
        "            #print(path)\n",
        "            residuals = [edge.capacity - self.flow[edge] for edge in path]\n",
        "            flow = min(residuals)\n",
        "            edge_liste_path = []\n",
        "            edge_path=(0,0)\n",
        "            for edge in path:\n",
        "                color_path = []\n",
        "                self.flow[edge] += flow\n",
        "                self.flow[edge.redge] -= flow\n",
        "                try:\n",
        "                    G[edge.source][edge.sink]['flow']\n",
        "                except KeyError:\n",
        "                    dict_exists = False\n",
        "                else:\n",
        "                    dict_exists = True\n",
        "                if(dict_exists):\n",
        "                    G[edge.source][edge.sink]['flow']+=flow\n",
        "                    edge_path = (edge.source,edge.sink)\n",
        "                else:\n",
        "                    G[edge.sink][edge.source]['flow']-=flow\n",
        "                    edge_path = (edge.sink,edge.source)\n",
        "                if(edge_path in edge_liste_path):\n",
        "                    edge_liste_path.remove(edge_path)\n",
        "                else : \n",
        "                    edge_liste_path.append(edge_path)\n",
        "\n",
        "            path = self.find_path(source, sink, [])\n",
        "            #npos=dict(zip(nodes,vnode))\n",
        "            \n",
        "            node_labels = dict()\n",
        "            for node in G.nodes:\n",
        "                node_labels[node] = str(node)\n",
        "            edge_labels=dict()\n",
        "            for edge in G.edges :\n",
        "                edge_labels[edge]=str(G.edges[edge]['flow']) + ' / ' + str(G.edges[edge]['weight'])\n",
        "            flot_ajoute = sum(self.flow[edge] for edge in self.get_edges(source))\n",
        "            player.set_value(copy.deepcopy(locals()))\n",
        "        return flot_ajoute"
      ],
      "execution_count": null,
      "outputs": []
    },
    {
      "cell_type": "code",
      "metadata": {
        "id": "lYy4G4nADCM5",
        "colab_type": "code",
        "colab": {}
      },
      "source": [
        "g=FlowNetwork()"
      ],
      "execution_count": null,
      "outputs": []
    },
    {
      "cell_type": "code",
      "metadata": {
        "id": "R4EJ7kglDD1Q",
        "colab_type": "code",
        "colab": {}
      },
      "source": [
        "file = open('dataFlot1.txt')\n",
        "line = file.readline()\n",
        "line = line.strip().split(' ')\n",
        "print(line)\n",
        "G = nx.DiGraph()\n",
        "[G.add_node(v) for v in line]\n",
        "[g.add_vertex(v) for v in line]\n",
        "line = file.readline()\n",
        "while line:\n",
        "    line = line.strip().split(' ')\n",
        "    G.add_edge(line[0],line[1],weight=int(line[2]),flow=0)\n",
        "    g.add_edge(line[0],line[1],int(line[2]))\n",
        "    line = file.readline()\n",
        "file.close()\n",
        "\n",
        "npos = nx.spring_layout(G)\n",
        "\n",
        "node_labels = dict()\n",
        "for node in G.nodes:\n",
        "     node_labels[node] = str(node)\n",
        "edge_labels= dict()\n",
        "for edge in G.edges :\n",
        "     edge_labels[edge]=str(G.edges[edge]['flow']) + ' / ' + str(G.edges[edge]['weight'])\n",
        "     #edge_labels[edge]=str(edge)\n",
        "#player.set_value(copy.deepcopy(locals()))"
      ],
      "execution_count": null,
      "outputs": []
    },
    {
      "cell_type": "code",
      "metadata": {
        "id": "JI2N7_S6DHHK",
        "colab_type": "code",
        "colab": {}
      },
      "source": [
        "player = GraphAlgorithmPlayer(G, variables=variables, view='networkx')\n",
        "player"
      ],
      "execution_count": null,
      "outputs": []
    },
    {
      "cell_type": "code",
      "metadata": {
        "id": "DBDU4XmKDIup",
        "colab_type": "code",
        "colab": {}
      },
      "source": [
        "g.max_flow(G, 's','t')"
      ],
      "execution_count": null,
      "outputs": []
    },
    {
      "cell_type": "markdown",
      "metadata": {
        "id": "j1rpcCECDK4R",
        "colab_type": "text"
      },
      "source": [
        "# Réaliser en l'algorithme Dijkstra"
      ]
    },
    {
      "cell_type": "code",
      "metadata": {
        "id": "lJCBz4akDP65",
        "colab_type": "code",
        "colab": {}
      },
      "source": [
        "from collections import defaultdict\n",
        "from heapq import *\n",
        "import networkx as nx\n",
        "import matplotlib.pyplot as plt\n",
        "from GraphAlgorithmPlayer import GraphAlgorithmPlayer\n",
        "import copy\n"
      ],
      "execution_count": null,
      "outputs": []
    },
    {
      "cell_type": "code",
      "metadata": {
        "id": "RHT2TrCCDTlZ",
        "colab_type": "code",
        "colab": {}
      },
      "source": [
        "\n",
        "variables=[\n",
        "          {'name': 'G',          'type':'graph'                                     },\n",
        "          {'name':'node_labels',        'type':'nodes', 'label': True,    'display': False },\n",
        "          {'name':'non_developpe',        'type':'nodes', 'color': 'green',   'display': True },\n",
        "          {'name':'developpe',        'type':'nodes', 'color': 'red',   'display': True },\n",
        "          {'name':'v1',        'type':'nodes', 'color': 'yellow',   'display': True }\n",
        "          ]"
      ],
      "execution_count": null,
      "outputs": []
    },
    {
      "cell_type": "code",
      "metadata": {
        "id": "ELSlhgIyDWK5",
        "colab_type": "code",
        "colab": {}
      },
      "source": [
        "def dijkstra_raw(G,edges, dep, dst):\n",
        "    g = defaultdict(list)\n",
        "    for u,v,p in edges:#u->v p:poids\n",
        "        g[u].append((p,v))\n",
        "    q, seen = [(0,dep,())], set()\n",
        "    developpe = []\n",
        "\n",
        "    while q:\n",
        "        non_developpe = []\n",
        "        (poid,v1,trajet) = heappop(q)\n",
        "        if v1 not in seen:\n",
        "            print('trajet',trajet)\n",
        "            seen.add(v1)\n",
        "            \n",
        "            list_v1=[]  #list de trajet : red\n",
        "            if len(trajet)>0:\n",
        "                u = trajet[0]\n",
        "                list_v1.append(u)    \n",
        "                v = trajet[1]\n",
        "                while len(v)>0:\n",
        "                    u = v[0]\n",
        "                    list_v1.append(u)    \n",
        "                    v = v[1]\n",
        "            \n",
        "            trajet = (v1, trajet)\n",
        "            developpe.append(v1)\n",
        "            if v1 == dst:\n",
        "                player.set_value(copy.deepcopy(locals()))\n",
        "                return poid,trajet\n",
        "            \n",
        "            list_v2 = []\n",
        "            for p, v2 in g.get(v1, ()):\n",
        "                if v2 not in seen:\n",
        "                    list_v2.append(v2)\n",
        "                    heappush(q, (poid+p, v2, trajet))\n",
        "            for i in q :\n",
        "                non_developpe.append(i[1])\n",
        "                    \n",
        "            player.set_value(copy.deepcopy(locals()))\n",
        "            \n",
        "            \n",
        "    return float(\"inf\"),[]\n",
        " \n",
        "def dijkstra(G,edges, dep, dst):\n",
        "    pcc = -1    #pcc:plus court chemin\n",
        "    ret_trajet=[]\n",
        "    longueur,trajet_queue = dijkstra_raw(G,edges, dep, dst)\n",
        "    if len(trajet_queue)>0:\n",
        "        pcc = longueur    ## 1. Get the length firstly;\n",
        "        ## 2. Decompose the path_queue, to get the passing nodes in the shortest path.\n",
        "        u = trajet_queue[0]\n",
        "        ret_trajet.append(u)    ## 2.1 Record the destination node firstly;\n",
        "        v = trajet_queue[1]\n",
        "        while len(v)>0:\n",
        "            u = v[0]\n",
        "            ret_trajet.append(u)    ## 2.2 Record other nodes, till the source-node.\n",
        "            v = v[1]\n",
        "        ret_trajet.reverse() ## 3. Reverse the list finally, to make it be normal sequence.\n",
        "    return pcc,ret_trajet\n",
        "\n"
      ],
      "execution_count": null,
      "outputs": []
    },
    {
      "cell_type": "code",
      "metadata": {
        "id": "DZXkU-nDDWvK",
        "colab_type": "code",
        "colab": {}
      },
      "source": [
        "\n",
        "data =[('a','b',2),('a','c',3),('b','c',4),('b','d',3),('c','e',5),('d','f',2),('c','d',6),('f','g',4),('c','g',5)]\n",
        "\n",
        "G = nx.DiGraph()#.random_regular_graph\n",
        "G.add_weighted_edges_from(data)\n"
      ],
      "execution_count": null,
      "outputs": []
    },
    {
      "cell_type": "code",
      "metadata": {
        "id": "i3cd-K9SDYJp",
        "colab_type": "code",
        "colab": {}
      },
      "source": [
        "player = GraphAlgorithmPlayer(G, variables=variables, view='networkx')\n",
        "player"
      ],
      "execution_count": null,
      "outputs": []
    },
    {
      "cell_type": "code",
      "metadata": {
        "id": "TPxhVz5XDZf5",
        "colab_type": "code",
        "colab": {}
      },
      "source": [
        "length,Shortest_path = dijkstra(G,data, 'a', 'g')\n",
        "print ('length = ',length)\n",
        "print ('The shortest path is ',Shortest_path)"
      ],
      "execution_count": null,
      "outputs": []
    },
    {
      "cell_type": "markdown",
      "metadata": {
        "id": "0YanydTkDvKp",
        "colab_type": "text"
      },
      "source": [
        "# Conclusion\n",
        "*  A traver la modélisations les deux algorithme avec Jupyter, nous avons famille avec des bibliothèque de Jupyter \n",
        "* Jupyter est plus simple pour tester les codes cellule par cellule\n",
        "* Jupyter est bien adapté aux objectifs de ce TER(algorithmique interactive)"
      ]
    }
  ]
}